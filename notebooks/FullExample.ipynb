{
 "cells": [
  {
   "cell_type": "markdown",
   "metadata": {},
   "source": [
    "# AgavePy"
   ]
  },
  {
   "cell_type": "markdown",
   "metadata": {},
   "source": [
    "<img style=\"display:inline;vertical-align:center\" src=\"python-logo-generic.svg\" width=\"150px\"> \n",
    "<span style=\"font-size:28pt\">+</span>\n",
    "<img style=\"display:inline;vertical-align:bottom\" src=\"logo-white-lg.png\" width=\"160px\">"
   ]
  },
  {
   "cell_type": "markdown",
   "metadata": {},
   "source": [
    "These are instructions and a basic example of how to run `agavepy`."
   ]
  },
  {
   "cell_type": "markdown",
   "metadata": {},
   "source": [
    "## Setting up"
   ]
  },
  {
   "cell_type": "markdown",
   "metadata": {},
   "source": [
    "Fill the following variables to the values for your system. The default ones work against a sandbox."
   ]
  },
  {
   "cell_type": "code",
   "execution_count": 1,
   "metadata": {
    "collapsed": true
   },
   "outputs": [],
   "source": [
    "USERNAME = 'jdoe'\n",
    "PASSWORD = 'abcde'"
   ]
  },
  {
   "cell_type": "markdown",
   "metadata": {},
   "source": [
    "This is the IP of a machine with `ssh` access, to work as an storage system:"
   ]
  },
  {
   "cell_type": "code",
   "execution_count": 2,
   "metadata": {
    "collapsed": true
   },
   "outputs": [],
   "source": [
    "STORAGE_IP = '191.236.150.54'\n",
    "STORAGE_USERNAME = 'jstubbs'\n",
    "\n",
    "# home directory in STORAGE_IP\n",
    "HOME_DIR = '/home/jstubbs'        \n",
    "\n",
    "# credentials to access STORAGE_IP\n",
    "STORAGE_PASSWORD = 'your password here'"
   ]
  },
  {
   "cell_type": "markdown",
   "metadata": {},
   "source": [
    "Here are the parameters needed for an execution system.  In this example we point it to the same IP as the storage system."
   ]
  },
  {
   "cell_type": "code",
   "execution_count": 3,
   "metadata": {
    "collapsed": false
   },
   "outputs": [],
   "source": [
    "EXECUTION_IP = STORAGE_IP\n",
    "EXECUTION_USERNAME = STORAGE_USERNAME\n",
    "EXECUTION_PASSWORD = STORAGE_PASSWORD"
   ]
  },
  {
   "cell_type": "markdown",
   "metadata": {},
   "source": [
    "## Creating the agave object"
   ]
  },
  {
   "cell_type": "markdown",
   "metadata": {},
   "source": [
    "Import the `agavepy` module:"
   ]
  },
  {
   "cell_type": "code",
   "execution_count": 4,
   "metadata": {
    "collapsed": true
   },
   "outputs": [],
   "source": [
    "import agavepy.agave as a\n",
    "import json"
   ]
  },
  {
   "cell_type": "markdown",
   "metadata": {},
   "source": [
    "Instantiate with your username and password.\n",
    "\n",
    "`api_server` points to an agave server. In the current container, `dev.agave.tacc.utexas.edu` is defined in `/etc/hosts` pointing to an Agave sandbox."
   ]
  },
  {
   "cell_type": "code",
   "execution_count": 5,
   "metadata": {
    "collapsed": true
   },
   "outputs": [],
   "source": [
    "agave = a.Agave(api_server='https://dev.agave.tacc.utexas.edu', \n",
    "                username=USERNAME,\n",
    "                password=PASSWORD,\n",
    "                verify=False)"
   ]
  },
  {
   "cell_type": "markdown",
   "metadata": {},
   "source": [
    "Usually there are already clients defined. If you created them with `agavepy`, you already have the credentials to use those clients in a file `~/.agavepy`, which is used automatically.  Otherwise, you can create new ones.\n",
    "\n",
    "List them with:"
   ]
  },
  {
   "cell_type": "code",
   "execution_count": 6,
   "metadata": {
    "collapsed": false,
    "scrolled": true
   },
   "outputs": [
    {
     "data": {
      "text/plain": [
       "[{u'_links': {u'self': {u'href': u'http://localhost:8000/clients/v2/DefaultApplication'},\n",
       "   u'subscriber': {u'href': u'http://localhost:8000/profiles/v2/jdoe'},\n",
       "   u'subscriptions': {u'href': u'http://localhost:8000/clients/v2/DefaultApplication/subscriptions/'}},\n",
       "  u'callbackUrl': None,\n",
       "  u'consumerKey': u'P9ngOdGkFVIBoRvp2AuZySeuNi0a',\n",
       "  u'description': None,\n",
       "  u'name': u'DefaultApplication',\n",
       "  u'tier': u'Unlimited'},\n",
       " {u'_links': {u'self': {u'href': u'http://localhost:8000/clients/v2/eod'},\n",
       "   u'subscriber': {u'href': u'http://localhost:8000/profiles/v2/jdoe'},\n",
       "   u'subscriptions': {u'href': u'http://localhost:8000/clients/v2/eod/subscriptions/'}},\n",
       "  u'callbackUrl': u'http://localhost:8000/oauth2/token',\n",
       "  u'consumerKey': u'Oa2NWUf1zyRkLHyT1fQEEBpM4DUa',\n",
       "  u'description': u'',\n",
       "  u'name': u'eod',\n",
       "  u'tier': u'Unlimited'},\n",
       " {u'_links': {u'self': {u'href': u'http://localhost:8000/clients/v2/myclient'},\n",
       "   u'subscriber': {u'href': u'http://localhost:8000/profiles/v2/jdoe'},\n",
       "   u'subscriptions': {u'href': u'http://localhost:8000/clients/v2/myclient/subscriptions/'}},\n",
       "  u'callbackUrl': u'',\n",
       "  u'consumerKey': u'1xNs1ThtFMzNpkJDTz3rOETfQCYa',\n",
       "  u'description': u'',\n",
       "  u'name': u'myclient',\n",
       "  u'tier': u'Unlimited'},\n",
       " {u'_links': {u'self': {u'href': u'http://localhost:8000/clients/v2/myclient2'},\n",
       "   u'subscriber': {u'href': u'http://localhost:8000/profiles/v2/jdoe'},\n",
       "   u'subscriptions': {u'href': u'http://localhost:8000/clients/v2/myclient2/subscriptions/'}},\n",
       "  u'callbackUrl': u'',\n",
       "  u'consumerKey': u'zSHWZtR2uaPbWVmLCbMmkeRgMcMa',\n",
       "  u'description': u'',\n",
       "  u'name': u'myclient2',\n",
       "  u'tier': u'Unlimited'},\n",
       " {u'_links': {u'self': {u'href': u'http://localhost:8000/clients/v2/testoauth2'},\n",
       "   u'subscriber': {u'href': u'http://localhost:8000/profiles/v2/jdoe'},\n",
       "   u'subscriptions': {u'href': u'http://localhost:8000/clients/v2/testoauth2/subscriptions/'}},\n",
       "  u'callbackUrl': u'http://localhost:8080/oauth2/token',\n",
       "  u'consumerKey': u'YoEfLM0BDPROI6hccGQL2k_fti8a',\n",
       "  u'description': u'',\n",
       "  u'name': u'testoauth2',\n",
       "  u'tier': u'Unlimited'}]"
      ]
     },
     "execution_count": 6,
     "metadata": {},
     "output_type": "execute_result"
    }
   ],
   "source": [
    "agave.clients.list()"
   ]
  },
  {
   "cell_type": "markdown",
   "metadata": {},
   "source": [
    "You can create a new client, in which case `agavepy` gets automatically connected to it:"
   ]
  },
  {
   "cell_type": "code",
   "execution_count": 7,
   "metadata": {
    "collapsed": false
   },
   "outputs": [
    {
     "data": {
      "text/plain": [
       "{u'_links': {u'self': {u'href': u'http://localhost:8000/clients/v2/myclient'},\n",
       "  u'subscriber': {u'href': u'http://localhost:8000/profiles/v2/jdoe'},\n",
       "  u'subscriptions': {u'href': u'http://localhost:8000/clients/v2/myclient/subscriptions/'}},\n",
       " u'callbackUrl': u'',\n",
       " u'consumerKey': u'yYVhe6icR3my8wNA7Hz_Afddki0a',\n",
       " u'consumerSecret': u'KZI0G2MZFYVUnA7trGO5W1bkC6oa',\n",
       " u'description': u'',\n",
       " u'name': u'myclient',\n",
       " u'tier': u'Unlimited'}"
      ]
     },
     "execution_count": 7,
     "metadata": {},
     "output_type": "execute_result"
    }
   ],
   "source": [
    "agave.clients.delete(clientName='myclient')  # delete old client first (if any)\n",
    "agave.clients.create(body={'clientName': 'myclient'})"
   ]
  },
  {
   "cell_type": "markdown",
   "metadata": {},
   "source": [
    "The new client should appear now in the list. Let's check it:"
   ]
  },
  {
   "cell_type": "code",
   "execution_count": 8,
   "metadata": {
    "collapsed": false
   },
   "outputs": [
    {
     "data": {
      "text/plain": [
       "[{u'_links': {u'self': {u'href': u'http://localhost:8000/clients/v2/myclient'},\n",
       "   u'subscriber': {u'href': u'http://localhost:8000/profiles/v2/jdoe'},\n",
       "   u'subscriptions': {u'href': u'http://localhost:8000/clients/v2/myclient/subscriptions/'}},\n",
       "  u'callbackUrl': u'',\n",
       "  u'consumerKey': u'yYVhe6icR3my8wNA7Hz_Afddki0a',\n",
       "  u'description': u'',\n",
       "  u'name': u'myclient',\n",
       "  u'tier': u'Unlimited'}]"
      ]
     },
     "execution_count": 8,
     "metadata": {},
     "output_type": "execute_result"
    }
   ],
   "source": [
    "[client for client in agave.clients.list() if client['name'] == 'myclient']"
   ]
  },
  {
   "cell_type": "markdown",
   "metadata": {},
   "source": [
    "## Using the API"
   ]
  },
  {
   "cell_type": "markdown",
   "metadata": {},
   "source": [
    "### Systems"
   ]
  },
  {
   "cell_type": "markdown",
   "metadata": {},
   "source": [
    "At this point, the object `agave` is connected to the API using a client.  As a test, let's list the systems associated to this client:"
   ]
  },
  {
   "cell_type": "code",
   "execution_count": 9,
   "metadata": {
    "collapsed": false
   },
   "outputs": [
    {
     "data": {
      "text/plain": [
       "[{u'_links': {u'self': {u'href': u'https://docker.example.com/systems/2.0/jfs.pysdk.endofday.local.compute.com'}},\n",
       "  u'default': False,\n",
       "  u'description': u'Execution system for local endofday runs',\n",
       "  u'id': u'jfs.pysdk.endofday.local.compute.com',\n",
       "  u'name': u'endofday local execution system',\n",
       "  u'public': False,\n",
       "  u'status': u'UP',\n",
       "  u'type': u'EXECUTION'},\n",
       " {u'_links': {u'self': {u'href': u'https://docker.example.com/systems/2.0/endofday.local.storage.com'}},\n",
       "  u'default': False,\n",
       "  u'description': u'Storage system for local endofday runs',\n",
       "  u'id': u'endofday.local.storage.com',\n",
       "  u'name': u'endofday local storage system',\n",
       "  u'public': False,\n",
       "  u'status': u'UP',\n",
       "  u'type': u'STORAGE'},\n",
       " {u'_links': {u'self': {u'href': u'https://docker.example.com/systems/2.0/my.execution.system'}},\n",
       "  u'default': False,\n",
       "  u'description': u'Execution system for agavepy test',\n",
       "  u'id': u'my.execution.system',\n",
       "  u'name': u'Agavepy execution test system',\n",
       "  u'public': False,\n",
       "  u'status': u'UP',\n",
       "  u'type': u'EXECUTION'},\n",
       " {u'_links': {u'self': {u'href': u'https://docker.example.com/systems/2.0/endofday.local.execute.com'}},\n",
       "  u'default': False,\n",
       "  u'description': u'Execution system for local endofday runs',\n",
       "  u'id': u'endofday.local.execute.com',\n",
       "  u'name': u'endofday local execution system',\n",
       "  u'public': False,\n",
       "  u'status': u'UP',\n",
       "  u'type': u'EXECUTION'},\n",
       " {u'_links': {u'self': {u'href': u'https://docker.example.com/systems/2.0/test-storage-wm.tacc2'}},\n",
       "  u'default': False,\n",
       "  u'description': u'Storage system for local endofday runs',\n",
       "  u'id': u'test-storage-wm.tacc2',\n",
       "  u'name': u'endofday local storage system',\n",
       "  u'public': False,\n",
       "  u'status': u'UP',\n",
       "  u'type': u'STORAGE'},\n",
       " {u'_links': {u'self': {u'href': u'https://docker.example.com/systems/2.0/test-compute-wm.tacc2'}},\n",
       "  u'default': False,\n",
       "  u'description': u'Execution system for local endofday runs',\n",
       "  u'id': u'test-compute-wm.tacc2',\n",
       "  u'name': u'endofday local execution system',\n",
       "  u'public': False,\n",
       "  u'status': u'UP',\n",
       "  u'type': u'EXECUTION'},\n",
       " {u'_links': {u'self': {u'href': u'https://docker.example.com/systems/2.0/my.test.system'}},\n",
       "  u'default': False,\n",
       "  u'description': u'Storage system for agavepy test',\n",
       "  u'id': u'my.test.system',\n",
       "  u'name': u'Agavepy test storage system',\n",
       "  u'public': False,\n",
       "  u'status': u'UP',\n",
       "  u'type': u'STORAGE'},\n",
       " {u'_links': {u'self': {u'href': u'https://docker.example.com/systems/2.0/jfs.pysdk.endofday.local.storage.com'}},\n",
       "  u'default': False,\n",
       "  u'description': u'Storage system for local endofday runs',\n",
       "  u'id': u'jfs.pysdk.endofday.local.storage.com',\n",
       "  u'name': u'endofday local storage system',\n",
       "  u'public': False,\n",
       "  u'status': u'UP',\n",
       "  u'type': u'STORAGE'}]"
      ]
     },
     "execution_count": 9,
     "metadata": {},
     "output_type": "execute_result"
    }
   ],
   "source": [
    "agave.systems.list()"
   ]
  },
  {
   "cell_type": "markdown",
   "metadata": {},
   "source": [
    "This is the JSON object necessary to register a new storage system:"
   ]
  },
  {
   "cell_type": "code",
   "execution_count": 10,
   "metadata": {
    "collapsed": false
   },
   "outputs": [],
   "source": [
    "storage = {\n",
    "   \"id\": \"my.test.system\",\n",
    "   \"name\": \"Agavepy test storage system\",\n",
    "   \"status\": \"UP\",\n",
    "   \"type\": \"STORAGE\",\n",
    "   \"description\": \"Storage system for agavepy test\",\n",
    "   \"site\": \"agaveapi.co\",\n",
    "   \"storage\":{\n",
    "      \"host\": STORAGE_IP,\n",
    "      \"port\": 22,\n",
    "      \"protocol\": \"SFTP\",\n",
    "      \"rootDir\": \"/\",\n",
    "      \"homeDir\": HOME_DIR,\n",
    "      \"auth\":{\n",
    "         \"username\": STORAGE_USERNAME,\n",
    "         \"type\": \"PASSWORD\",\n",
    "         \"password\": STORAGE_PASSWORD\n",
    "      }\n",
    "   }\n",
    "}"
   ]
  },
  {
   "cell_type": "markdown",
   "metadata": {},
   "source": [
    "The actuall call to the Agave API is:"
   ]
  },
  {
   "cell_type": "code",
   "execution_count": 12,
   "metadata": {
    "collapsed": false
   },
   "outputs": [
    {
     "data": {
      "text/plain": [
       "{u'_links': {u'credentials': {u'href': u'https://docker.example.com/systems/2.0/my.test.system/credentials'},\n",
       "  u'metadata': {u'href': u'https://docker.example.com/meta/2.0/data/?q={\"associationIds\":\"0001431720189499-242ac11c-0001-006\"}'},\n",
       "  u'owner': {u'href': u'https://docker.example.com/profiles/2.0/jdoe'},\n",
       "  u'roles': {u'href': u'https://docker.example.com/systems/2.0/my.test.system/roles'},\n",
       "  u'self': {u'href': u'https://docker.example.com/systems/2.0/my.test.system'}},\n",
       " u'description': u'Storage system for agavepy test',\n",
       " u'id': u'my.test.system',\n",
       " u'lastModified': datetime.datetime(2015, 5, 18, 12, 14, 9, 728000, tzinfo=tzoffset(None, -18000)),\n",
       " u'name': u'Agavepy test storage system',\n",
       " u'public': False,\n",
       " u'revision': 7,\n",
       " u'site': u'agaveapi.co',\n",
       " u'status': u'UP',\n",
       " u'storage': {u'auth': {u'type': u'PASSWORD'},\n",
       "  u'homeDir': u'/home/jstubbs',\n",
       "  u'host': u'191.236.150.54',\n",
       "  u'mirror': False,\n",
       "  u'port': 22,\n",
       "  u'protocol': u'SFTP',\n",
       "  u'proxy': None,\n",
       "  u'publicAppsDir': None,\n",
       "  u'rootDir': u'/'},\n",
       " u'type': u'STORAGE',\n",
       " u'uuid': u'0001431720189499-242ac11c-0001-006'}"
      ]
     },
     "execution_count": 12,
     "metadata": {},
     "output_type": "execute_result"
    }
   ],
   "source": [
    "agave.systems.add(body=storage)"
   ]
  },
  {
   "cell_type": "markdown",
   "metadata": {},
   "source": [
    "Let's check that the storage system is up and that we have access by listing files:"
   ]
  },
  {
   "cell_type": "code",
   "execution_count": 13,
   "metadata": {
    "collapsed": false
   },
   "outputs": [
    {
     "data": {
      "text/plain": [
       "[u'.',\n",
       " u'.bash_history',\n",
       " u'.bash_logout',\n",
       " u'.bash_profile',\n",
       " u'.bashrc',\n",
       " u'.pki',\n",
       " u'.viminfo',\n",
       " u'docker-latest',\n",
       " u'endofday',\n",
       " u'hello.txt',\n",
       " u'jdoe',\n",
       " u'pysdk_testsuiteapp',\n",
       " u'wc.py',\n",
       " u'wc.sh']"
      ]
     },
     "execution_count": 13,
     "metadata": {},
     "output_type": "execute_result"
    }
   ],
   "source": [
    "[f.name for f in agave.files.list(systemId='my.test.system', filePath=HOME_DIR)]"
   ]
  },
  {
   "cell_type": "markdown",
   "metadata": {},
   "source": [
    "And let's be bold and add a file.\n",
    "\n",
    "We create the file locally first:"
   ]
  },
  {
   "cell_type": "code",
   "execution_count": 14,
   "metadata": {
    "collapsed": false
   },
   "outputs": [],
   "source": [
    "import tempfile\n",
    "temp = tempfile.mktemp()\n",
    "\n",
    "with open(temp, 'w') as f:\n",
    "    f.write('Hello world!')"
   ]
  },
  {
   "cell_type": "markdown",
   "metadata": {},
   "source": [
    "and we upload it with:"
   ]
  },
  {
   "cell_type": "code",
   "execution_count": 15,
   "metadata": {
    "collapsed": false
   },
   "outputs": [
    {
     "data": {
      "text/plain": [
       "{u'_links': {u'history': {u'href': u'https://docker.example.com/files/2.0/history/system/my.test.system/hello.txt'},\n",
       "  u'self': {u'href': u'https://docker.example.com/files/2.0/media/system/my.test.system/hello.txt'},\n",
       "  u'system': {u'href': u'https://docker.example.com/systems/2.0/my.test.system'}},\n",
       " u'internalUsername': None,\n",
       " u'lastModified': datetime.datetime(2015, 5, 18, 12, 14, 56, 831000, tzinfo=tzoffset(None, -18000)),\n",
       " u'name': u'hello.txt',\n",
       " u'nativeFormat': u'raw',\n",
       " u'owner': u'jdoe',\n",
       " u'path': u'/home/jstubbs/hello.txt',\n",
       " u'source': u'http://191.236.147.52/tmpQrnS8h',\n",
       " u'status': u'STAGING_QUEUED',\n",
       " u'systemId': u'my.test.system',\n",
       " u'uuid': u'0001431720700707-242ac1113-0001-002'}"
      ]
     },
     "execution_count": 15,
     "metadata": {},
     "output_type": "execute_result"
    }
   ],
   "source": [
    "response = agave.files.importData(\n",
    "    systemId='my.test.system',\n",
    "    filePath=HOME_DIR,\n",
    "    fileName='hello.txt',\n",
    "    fileToUpload=open(temp))\n",
    "response"
   ]
  },
  {
   "cell_type": "markdown",
   "metadata": {},
   "source": [
    "Note the field `response['uuid']`, which is an identifier that can be used to refer to the file.\n",
    "\n",
    "Let's try downloading the file:"
   ]
  },
  {
   "cell_type": "code",
   "execution_count": 16,
   "metadata": {
    "collapsed": false
   },
   "outputs": [
    {
     "data": {
      "text/plain": [
       "u'Hello world!'"
      ]
     },
     "execution_count": 16,
     "metadata": {},
     "output_type": "execute_result"
    }
   ],
   "source": [
    "agave.files.download(systemId='my.test.system', filePath='hello.txt').text"
   ]
  },
  {
   "cell_type": "markdown",
   "metadata": {},
   "source": [
    "Now we register an execution system.  This is the JSON object:"
   ]
  },
  {
   "cell_type": "code",
   "execution_count": 17,
   "metadata": {
    "collapsed": false
   },
   "outputs": [],
   "source": [
    "execution = {\n",
    "    \"id\": \"my.execution.system\",\n",
    "    \"name\": \"Agavepy execution test system\",\n",
    "    \"status\": \"UP\",\n",
    "    \"type\": \"EXECUTION\",\n",
    "    \"description\": \"Execution system for agavepy test\",\n",
    "    \"site\": \"agaveapi.co\",\n",
    "    \"executionType\": \"CLI\",\n",
    "    \"scratchDir\": HOME_DIR,\n",
    "    \"workDir\": HOME_DIR,\n",
    "    \"queues\": [\n",
    "        {\n",
    "            \"name\": \"debug\",\n",
    "            \"maxJobs\": 100,\n",
    "            \"maxUserJobs\": 10,\n",
    "            \"maxNodes\": 128,\n",
    "            \"maxMemoryPerNode\": \"2GB\",\n",
    "            \"maxProcessorsPerNode\": 128,\n",
    "            \"maxRequestedTime\": \"24:00:00\",\n",
    "            \"customDirectives\": \"\",\n",
    "            \"default\": True\n",
    "        }\n",
    "    ],\n",
    "    \"login\":{\n",
    "        \"host\": EXECUTION_IP,\n",
    "        \"port\": 22,\n",
    "        \"protocol\": \"SSH\",\n",
    "        \"scratchDir\": HOME_DIR,\n",
    "        \"workDir\": HOME_DIR,\n",
    "        \"auth\":{\n",
    "            \"username\": EXECUTION_USERNAME,\n",
    "            \"type\":\"PASSWORD\",\n",
    "            \"password\": EXECUTION_PASSWORD\n",
    "        }\n",
    "    },\n",
    "    \"storage\":{\n",
    "        \"host\": STORAGE_IP,\n",
    "        \"port\": 22,\n",
    "        \"protocol\": \"SFTP\",\n",
    "        \"rootDir\": \"/\",\n",
    "        \"homeDir\": HOME_DIR,\n",
    "        \"auth\":{\n",
    "            \"username\": STORAGE_USERNAME,\n",
    "            \"type\":\"PASSWORD\",\n",
    "            \"password\": STORAGE_PASSWORD\n",
    "        }\n",
    "    },\n",
    "    \"maxSystemJobs\": 100,\n",
    "    \"maxSystemJobsPerUser\": 10,\n",
    "    \"scheduler\": \"FORK\",\n",
    "    \"environment\": \"\",\n",
    "    \"startupScript\": \"./bashrc\"\n",
    "}\n"
   ]
  },
  {
   "cell_type": "markdown",
   "metadata": {},
   "source": [
    "The execution system is registered in the same way as the storage:"
   ]
  },
  {
   "cell_type": "code",
   "execution_count": 18,
   "metadata": {
    "collapsed": false
   },
   "outputs": [
    {
     "data": {
      "text/plain": [
       "{u'_links': {u'credentials': {u'href': u'https://docker.example.com/systems/2.0/my.execution.system/credentials'},\n",
       "  u'metadata': {u'href': u'https://docker.example.com/meta/2.0/data/?q={\"associationIds\":\"0001431721052429-242ac11c-0001-006\"}'},\n",
       "  u'owner': {u'href': u'https://docker.example.com/profiles/2.0/jdoe'},\n",
       "  u'roles': {u'href': u'https://docker.example.com/systems/2.0/my.execution.system/roles'},\n",
       "  u'self': {u'href': u'https://docker.example.com/systems/2.0/my.execution.system'}},\n",
       " u'description': u'Execution system for agavepy test',\n",
       " u'environment': None,\n",
       " u'executionType': u'CLI',\n",
       " u'id': u'my.execution.system',\n",
       " u'lastModified': datetime.datetime(2015, 5, 18, 12, 15, 10, 527000, tzinfo=tzoffset(None, -18000)),\n",
       " u'login': {u'auth': {u'type': u'PASSWORD'},\n",
       "  u'host': u'191.236.150.54',\n",
       "  u'port': 22,\n",
       "  u'protocol': u'SSH',\n",
       "  u'proxy': None},\n",
       " u'maxSystemJobs': 100,\n",
       " u'maxSystemJobsPerUser': 10,\n",
       " u'name': u'Agavepy execution test system',\n",
       " u'public': False,\n",
       " u'queues': [{u'customDirectives': None,\n",
       "   u'default': True,\n",
       "   u'maxJobs': 100,\n",
       "   u'maxMemoryPerNode': 2,\n",
       "   u'maxNodes': 128,\n",
       "   u'maxProcessorsPerNode': 128,\n",
       "   u'maxUserJobs': 10,\n",
       "   u'name': u'debug'}],\n",
       " u'revision': 2,\n",
       " u'scheduler': u'FORK',\n",
       " u'scratchDir': u'/home/jstubbs/',\n",
       " u'site': u'agaveapi.co',\n",
       " u'startupScript': u'./bashrc',\n",
       " u'status': u'UP',\n",
       " u'storage': {u'auth': {u'type': u'PASSWORD'},\n",
       "  u'homeDir': u'/home/jstubbs',\n",
       "  u'host': u'191.236.150.54',\n",
       "  u'mirror': False,\n",
       "  u'port': 22,\n",
       "  u'protocol': u'SFTP',\n",
       "  u'proxy': None,\n",
       "  u'rootDir': u'/'},\n",
       " u'type': u'EXECUTION',\n",
       " u'uuid': u'0001431721052429-242ac11c-0001-006',\n",
       " u'workDir': u'/home/jstubbs/'}"
      ]
     },
     "execution_count": 18,
     "metadata": {},
     "output_type": "execute_result"
    }
   ],
   "source": [
    "agave.systems.add(body=execution)"
   ]
  },
  {
   "cell_type": "markdown",
   "metadata": {},
   "source": [
    "### Apps"
   ]
  },
  {
   "cell_type": "markdown",
   "metadata": {},
   "source": [
    "Let's create a simple app that counts words.  The Python functions is:"
   ]
  },
  {
   "cell_type": "code",
   "execution_count": 19,
   "metadata": {
    "collapsed": false
   },
   "outputs": [
    {
     "name": "stdout",
     "output_type": "stream",
     "text": [
      "Overwriting wc.py\n"
     ]
    }
   ],
   "source": [
    "%%writefile wc.py\n",
    "import sys\n",
    "\n",
    "def word_count(filename):\n",
    "    return len(open(filename).read().split())  \n",
    "\n",
    "if __name__ == '__main__':\n",
    "    with open('out.txt', 'w') as out:\n",
    "        out.write(str(word_count(sys.argv[1])))"
   ]
  },
  {
   "cell_type": "markdown",
   "metadata": {},
   "source": [
    "We test it by creating a temporary file and passing its name:"
   ]
  },
  {
   "cell_type": "code",
   "execution_count": 20,
   "metadata": {
    "collapsed": false
   },
   "outputs": [
    {
     "name": "stdout",
     "output_type": "stream",
     "text": [
      "8\n"
     ]
    }
   ],
   "source": [
    "temp = tempfile.mktemp()\n",
    "with open(temp, 'w') as f:\n",
    "    f.write('Lorem ipsum dolor sit amet, consectetur adipiscing elit.')\n",
    "\n",
    "import wc\n",
    "print(wc.word_count(temp))"
   ]
  },
  {
   "cell_type": "markdown",
   "metadata": {},
   "source": [
    "Let's wrap the Python function in a shell script:"
   ]
  },
  {
   "cell_type": "code",
   "execution_count": 21,
   "metadata": {
    "collapsed": false
   },
   "outputs": [
    {
     "name": "stdout",
     "output_type": "stream",
     "text": [
      "Overwriting wc.sh\n"
     ]
    }
   ],
   "source": [
    "%%writefile wc.sh\n",
    "python2 wc.py ${temp}"
   ]
  },
  {
   "cell_type": "markdown",
   "metadata": {},
   "source": [
    "And let's test it:"
   ]
  },
  {
   "cell_type": "code",
   "execution_count": 22,
   "metadata": {
    "collapsed": false
   },
   "outputs": [
    {
     "name": "stdout",
     "output_type": "stream",
     "text": [
      "8"
     ]
    }
   ],
   "source": [
    "!chmod +x wc.sh      # make shell script executable\n",
    "!temp=$temp ./wc.sh  # call wc.sh with env variable 'temp'\n",
    "!cat out.txt         # display output created by wc.sh"
   ]
  },
  {
   "cell_type": "markdown",
   "metadata": {},
   "source": [
    "Here we upload the files `wc.py` and `wc.sh` to the storage system:"
   ]
  },
  {
   "cell_type": "code",
   "execution_count": 24,
   "metadata": {
    "collapsed": false
   },
   "outputs": [],
   "source": [
    "for filename in ['wc.py', 'wc.sh']:\n",
    "    agave.files.importData(\n",
    "        systemId='my.test.system',\n",
    "        filePath=HOME_DIR,\n",
    "        fileName=filename,\n",
    "        fileToUpload=open(filename))"
   ]
  },
  {
   "cell_type": "markdown",
   "metadata": {},
   "source": [
    "Now we register an app with name `my.wc` using the previously registered storage and execution systems.  The app takes an input with id `temp`, matching the name of the input used in `wc.sh` above.\n",
    "\n",
    "The JSON object is:"
   ]
  },
  {
   "cell_type": "code",
   "execution_count": 25,
   "metadata": {
    "collapsed": false
   },
   "outputs": [],
   "source": [
    "app = {\n",
    "    \"defaultNodes\": 1, \n",
    "    \"defaultMemoryPerNode\": \"2GB\", \n",
    "    \"datePublished\": \"\", \n",
    "    \"defaultQueue\": \"debug\", \n",
    "    \"author\": \"agavepy\", \n",
    "    \"shortDescription\": \"Word count app\", \n",
    "    \"label\": \"word-count\", \n",
    "    \"defaultProcessorsPerNode\": 1, \n",
    "    \"version\": \"0.0.1\", \n",
    "    \"defaultMaxRunTime\": \"01:00:00\", \n",
    "    \"available\": True, \n",
    "    \"inputs\": [\n",
    "        {\n",
    "            \"semantics\": {\n",
    "                \"fileTypes\": [\n",
    "                    \"text-0\"\n",
    "                ], \n",
    "                \"minCardinality\": 1, \n",
    "                \"ontology\": [\n",
    "                    \"http://sswapmeet.sswap.info/util/TextDocument\"\n",
    "                ], \n",
    "                \"maxCardinality\": 1\n",
    "            }, \n",
    "            \"id\": \"temp\", \n",
    "            \"value\": {\n",
    "                \"default\": \"\", \n",
    "                \"required\": True, \n",
    "                \"enquote\": False, \n",
    "                \"visible\": True, \n",
    "                \"validator\": \"\", \n",
    "                \"order\": 0\n",
    "            }, \n",
    "            \"details\": {\n",
    "                \"repeatArgument\": False, \n",
    "                \"showArgument\": False, \n",
    "                \"description\": \"\", \n",
    "                \"label\": \"A text file.\"\n",
    "            }\n",
    "        }\n",
    "    ], \n",
    "    \"tags\": [\n",
    "        \"containers\", \n",
    "        \"docker\"\n",
    "    ], \n",
    "    \"outputs\": [], \n",
    "    \"longDescription\": \"\", \n",
    "    \"executionSystem\": \"my.execution.system\", \n",
    "    \"testPath\": HOME_DIR,\n",
    "    \"deploymentPath\": HOME_DIR, \n",
    "    \"templatePath\": \"wc.sh\", \n",
    "    \"deploymentSystem\": \"my.test.system\", \n",
    "    \"name\": \"my.wc\", \n",
    "    \"checkpointable\": True, \n",
    "    \"executionType\": \"CLI\", \n",
    "    \"publiclyAvailable\": \"false\", \n",
    "    \"parallelism\": \"SERIAL\", \n",
    "    \"helpURI\": \"https://example.com\"\n",
    "}"
   ]
  },
  {
   "cell_type": "markdown",
   "metadata": {},
   "source": [
    "Registering the app is similar to registering the systems:"
   ]
  },
  {
   "cell_type": "code",
   "execution_count": 26,
   "metadata": {
    "collapsed": false
   },
   "outputs": [
    {
     "data": {
      "text/plain": [
       "{u'_links': {u'executionSystem': {u'href': u'https://docker.example.com/systems/2.0/my.execution.system'},\n",
       "  u'metadata': {u'href': u'https://docker.example.com/meta/2.0/data/?q={\"associationIds\":\"0001431722633030-242ac1111-0001-005\"}'},\n",
       "  u'owner': {u'href': u'https://docker.example.com/profiles/2.0/jdoe'},\n",
       "  u'permissions': {u'href': u'https://docker.example.com/apps/2.0/my.wc-0.0.1/pems'},\n",
       "  u'self': {u'href': u'https://docker.example.com/apps/2.0/my.wc-0.0.1'},\n",
       "  u'storageSystem': {u'href': u'https://docker.example.com/systems/2.0/my.test.system'}},\n",
       " u'available': True,\n",
       " u'checkpointable': True,\n",
       " u'defaultMaxRunTime': u'01:00:00',\n",
       " u'defaultMemoryPerNode': 2,\n",
       " u'defaultNodeCount': 1,\n",
       " u'defaultProcessorsPerNode': 1,\n",
       " u'defaultQueue': u'debug',\n",
       " u'deploymentPath': u'/home/jstubbs',\n",
       " u'deploymentSystem': u'my.test.system',\n",
       " u'executionSystem': u'my.execution.system',\n",
       " u'executionType': u'CLI',\n",
       " u'helpURI': u'https://example.com',\n",
       " u'icon': None,\n",
       " u'id': u'my.wc-0.0.1',\n",
       " u'inputs': [{u'details': {u'argument': None,\n",
       "    u'description': u'',\n",
       "    u'label': u'A text file.',\n",
       "    u'repeatArgument': False,\n",
       "    u'showArgument': False},\n",
       "   u'id': u'temp',\n",
       "   u'semantics': {u'fileTypes': [u'text-0'],\n",
       "    u'maxCardinality': 1,\n",
       "    u'minCardinality': 1,\n",
       "    u'ontology': [u'http://sswapmeet.sswap.info/util/TextDocument']},\n",
       "   u'value': {u'default': u'',\n",
       "    u'enquote': False,\n",
       "    u'order': 0,\n",
       "    u'required': True,\n",
       "    u'validator': u'',\n",
       "    u'visible': True}}],\n",
       " u'isPublic': False,\n",
       " u'label': u'word-count',\n",
       " u'lastModified': datetime.datetime(2015, 5, 18, 12, 19, 8, 950000, tzinfo=tzoffset(None, -18000)),\n",
       " u'longDescription': u'',\n",
       " u'modules': [],\n",
       " u'name': u'my.wc',\n",
       " u'ontology': [],\n",
       " u'outputs': [],\n",
       " u'parallelism': u'SERIAL',\n",
       " u'parameters': [],\n",
       " u'revision': 2,\n",
       " u'shortDescription': u'Word count app',\n",
       " u'tags': [u'containers', u'docker'],\n",
       " u'templatePath': u'wc.sh',\n",
       " u'testPath': u'/',\n",
       " u'uuid': u'0001431722633030-242ac1111-0001-005',\n",
       " u'version': u'0.0.1'}"
      ]
     },
     "execution_count": 26,
     "metadata": {},
     "output_type": "execute_result"
    }
   ],
   "source": [
    "agave.apps.add(body=app)"
   ]
  },
  {
   "cell_type": "markdown",
   "metadata": {},
   "source": [
    "We should see our new app in the list of apps:"
   ]
  },
  {
   "cell_type": "code",
   "execution_count": 33,
   "metadata": {
    "collapsed": false
   },
   "outputs": [
    {
     "data": {
      "text/plain": [
       "[u'pysdk-testsuitewc-wm_', u'pysdk-testsuitejfs_', u'my.wc', u'endofday-local']"
      ]
     },
     "execution_count": 33,
     "metadata": {},
     "output_type": "execute_result"
    }
   ],
   "source": [
    "[app.name for app in agave.apps.list()]"
   ]
  },
  {
   "cell_type": "markdown",
   "metadata": {},
   "source": [
    "We can access all the information of the app by its name together with its version:"
   ]
  },
  {
   "cell_type": "code",
   "execution_count": 34,
   "metadata": {
    "collapsed": false
   },
   "outputs": [
    {
     "data": {
      "text/plain": [
       "{u'_links': {u'executionSystem': {u'href': u'https://docker.example.com/systems/2.0/my.execution.system'},\n",
       "  u'metadata': {u'href': u'https://docker.example.com/meta/2.0/data/?q={\"associationIds\":\"0001431722633030-242ac1111-0001-005\"}'},\n",
       "  u'owner': {u'href': u'https://docker.example.com/profiles/2.0/jdoe'},\n",
       "  u'permissions': {u'href': u'https://docker.example.com/apps/2.0/my.wc-0.0.1/pems'},\n",
       "  u'self': {u'href': u'https://docker.example.com/apps/2.0/my.wc-0.0.1'},\n",
       "  u'storageSystem': {u'href': u'https://docker.example.com/systems/2.0/my.test.system'}},\n",
       " u'available': True,\n",
       " u'checkpointable': True,\n",
       " u'defaultMaxRunTime': u'01:00:00',\n",
       " u'defaultMemoryPerNode': 2,\n",
       " u'defaultNodeCount': 1,\n",
       " u'defaultProcessorsPerNode': 1,\n",
       " u'defaultQueue': u'debug',\n",
       " u'deploymentPath': u'/home/jstubbs',\n",
       " u'deploymentSystem': u'my.test.system',\n",
       " u'executionSystem': u'my.execution.system',\n",
       " u'executionType': u'CLI',\n",
       " u'helpURI': u'https://example.com',\n",
       " u'icon': None,\n",
       " u'id': u'my.wc-0.0.1',\n",
       " u'inputs': [{u'details': {u'argument': None,\n",
       "    u'description': u'',\n",
       "    u'label': u'A text file.',\n",
       "    u'repeatArgument': False,\n",
       "    u'showArgument': False},\n",
       "   u'id': u'temp',\n",
       "   u'semantics': {u'fileTypes': [u'text-0'],\n",
       "    u'maxCardinality': 1,\n",
       "    u'minCardinality': 1,\n",
       "    u'ontology': [u'http://sswapmeet.sswap.info/util/TextDocument']},\n",
       "   u'value': {u'default': u'',\n",
       "    u'enquote': False,\n",
       "    u'order': 0,\n",
       "    u'required': True,\n",
       "    u'validator': u'',\n",
       "    u'visible': True}}],\n",
       " u'isPublic': False,\n",
       " u'label': u'word-count',\n",
       " u'lastModified': datetime.datetime(2015, 5, 18, 12, 19, 8, tzinfo=tzoffset(None, -18000)),\n",
       " u'longDescription': u'',\n",
       " u'modules': [],\n",
       " u'name': u'my.wc',\n",
       " u'ontology': [],\n",
       " u'outputs': [],\n",
       " u'parallelism': u'SERIAL',\n",
       " u'parameters': [],\n",
       " u'revision': 2,\n",
       " u'shortDescription': u'Word count app',\n",
       " u'tags': [u'containers', u'docker'],\n",
       " u'templatePath': u'wc.sh',\n",
       " u'testPath': u'/',\n",
       " u'uuid': u'0001431722633030-242ac1111-0001-005',\n",
       " u'version': u'0.0.1'}"
      ]
     },
     "execution_count": 34,
     "metadata": {},
     "output_type": "execute_result"
    }
   ],
   "source": [
    "agave.apps.get(appId='my.wc-0.0.1')"
   ]
  },
  {
   "cell_type": "markdown",
   "metadata": {},
   "source": [
    "### Jobs"
   ]
  },
  {
   "cell_type": "markdown",
   "metadata": {},
   "source": [
    "Submit a job to exercise the app. We'll set as input the file `hello.txt` that we uploaded before:"
   ]
  },
  {
   "cell_type": "code",
   "execution_count": 48,
   "metadata": {
    "collapsed": false
   },
   "outputs": [
    {
     "data": {
      "text/plain": [
       "{u'_links': {u'app': {u'href': u'https://docker.example.com/apps/2.0/my.wc-0.0.1'},\n",
       "  u'archiveData': {u'href': u'https://docker.example.com/jobs/2.0/0001431970348786-242ac1112-0001-007/outputs/listings'},\n",
       "  u'archiveSystem': {u'href': u'https://docker.example.com/systems/2.0/test-storage-wm.tacc2'},\n",
       "  u'executionSystem': {u'href': u'https://docker.example.com/systems/2.0/my.execution.system'},\n",
       "  u'history': {u'href': u'https://docker.example.com/jobs/2.0/0001431970348786-242ac1112-0001-007/history'},\n",
       "  u'metadata': {u'href': u'https://docker.example.com/meta/2.0/data/?q={\"associationIds\":\"0001431970348786-242ac1112-0001-007\"}'},\n",
       "  u'notifications': {u'href': u'https://docker.example.com/notifications/2.0/?associatedUuid=0001431970348786-242ac1112-0001-007'},\n",
       "  u'owner': {u'href': u'https://docker.example.com/profiles/2.0/jdoe'},\n",
       "  u'permissions': {u'href': u'https://docker.example.com/jobs/2.0/0001431970348786-242ac1112-0001-007/pems'},\n",
       "  u'self': {u'href': u'https://docker.example.com/jobs/2.0/0001431970348786-242ac1112-0001-007'}},\n",
       " u'appId': u'my.wc-0.0.1',\n",
       " u'archive': True,\n",
       " u'archivePath': u'jdoe/archive/jobs/job-0001431970348786-242ac1112-0001-007',\n",
       " u'archiveSystem': u'test-storage-wm.tacc2',\n",
       " u'batchQueue': u'debug',\n",
       " u'endTime': None,\n",
       " u'executionSystem': u'my.execution.system',\n",
       " u'id': u'0001431970348786-242ac1112-0001-007',\n",
       " u'inputs': {u'temp': u'agave://my.test.system///home/jstubbs/hello.txt'},\n",
       " u'localId': None,\n",
       " u'maxRunTime': u'01:00:00',\n",
       " u'memoryPerNode': 2.0,\n",
       " u'name': u'My Word Count',\n",
       " u'nodeCount': 1,\n",
       " u'outputPath': None,\n",
       " u'owner': u'jdoe',\n",
       " u'parameters': {},\n",
       " u'processorsPerNode': 1,\n",
       " u'retries': 0,\n",
       " u'startTime': None,\n",
       " u'status': u'PENDING',\n",
       " u'submitTime': datetime.datetime(2015, 5, 18, 12, 32, 28, 787000, tzinfo=tzoffset(None, -18000))}"
      ]
     },
     "execution_count": 48,
     "metadata": {},
     "output_type": "execute_result"
    }
   ],
   "source": [
    "job = {\n",
    "  \"name\": \"My Word Count\",\n",
    "  \"appId\": \"my.wc-0.0.1\",\n",
    "  \"inputs\": {\n",
    "    \"temp\": [\"agave://my.test.system//{HOME_DIR}/hello.txt\".format(HOME_DIR=HOME_DIR)]\n",
    "  },\n",
    "  \"archive\": True,\n",
    "  \"notifications\": [\n",
    "    {\n",
    "      \"url\": \"http://requestb.in/p9fm7ap9?job_id=${JOB_ID}&status=${JOB_STATUS}\",\n",
    "      \"event\": \"*\",\n",
    "      \"persistent\": True\n",
    "    }\n",
    "  ]\n",
    "}\n",
    "\n",
    "my_job = agave.jobs.submit(body=job)\n",
    "my_job"
   ]
  },
  {
   "cell_type": "markdown",
   "metadata": {},
   "source": [
    "We can retrieve the status of the job with:"
   ]
  },
  {
   "cell_type": "code",
   "execution_count": 49,
   "metadata": {
    "collapsed": false
   },
   "outputs": [
    {
     "data": {
      "text/plain": [
       "{u'_links': {u'self': {u'href': u'https://docker.example.com/jobs/2.0/0001431970348786-242ac1112-0001-007'}},\n",
       " u'id': u'0001431970348786-242ac1112-0001-007',\n",
       " u'status': u'STAGING_INPUTS'}"
      ]
     },
     "execution_count": 49,
     "metadata": {},
     "output_type": "execute_result"
    }
   ],
   "source": [
    "agave.jobs.getStatus(jobId=my_job['id'])"
   ]
  },
  {
   "cell_type": "markdown",
   "metadata": {},
   "source": [
    "Let's wait until the job is finished:"
   ]
  },
  {
   "cell_type": "code",
   "execution_count": 51,
   "metadata": {
    "collapsed": false
   },
   "outputs": [
    {
     "name": "stdout",
     "output_type": "stream",
     "text": [
      "Done!\n"
     ]
    }
   ],
   "source": [
    "import time\n",
    "\n",
    "while agave.jobs.getStatus(jobId=my_job['id'])['status'] != 'FINISHED':\n",
    "    time.sleep(1)\n",
    "    \n",
    "print 'Done!'"
   ]
  },
  {
   "cell_type": "markdown",
   "metadata": {},
   "source": [
    "Finally, we can retrieve the result that was left in the file `out.txt`:"
   ]
  },
  {
   "cell_type": "code",
   "execution_count": 52,
   "metadata": {
    "collapsed": false
   },
   "outputs": [
    {
     "data": {
      "text/plain": [
       "u'2'"
      ]
     },
     "execution_count": 52,
     "metadata": {},
     "output_type": "execute_result"
    }
   ],
   "source": [
    "agave.files.download(systemId='my.test.system', filePath=my_job['archivePath']+'/out.txt').text"
   ]
  },
  {
   "cell_type": "markdown",
   "metadata": {
    "collapsed": true
   },
   "source": [
    "That's precisely the word count of \"`Hello World!`\"!!"
   ]
  }
 ],
 "metadata": {
  "kernelspec": {
   "display_name": "Python 2",
   "language": "python",
   "name": "python2"
  },
  "language_info": {
   "codemirror_mode": {
    "name": "ipython",
    "version": 2
   },
   "file_extension": ".py",
   "mimetype": "text/x-python",
   "name": "python",
   "nbconvert_exporter": "python",
   "pygments_lexer": "ipython2",
   "version": "2.7.6"
  }
 },
 "nbformat": 4,
 "nbformat_minor": 0
}
